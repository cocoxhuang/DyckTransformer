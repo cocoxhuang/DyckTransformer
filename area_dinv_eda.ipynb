{
 "cells": [
  {
   "cell_type": "code",
   "execution_count": 1,
   "id": "1152f82e",
   "metadata": {},
   "outputs": [],
   "source": [
    "from sage.all import DyckWords \n",
    "from src.utils.utils import word_to_path\n",
    "from matplotlib import pyplot as plt\n",
    "import pandas as pd"
   ]
  },
  {
   "cell_type": "code",
   "execution_count": 2,
   "id": "fbcf8e23",
   "metadata": {},
   "outputs": [
    {
     "name": "stdout",
     "output_type": "stream",
     "text": [
      "There are in total 272 (area, dinv) pairs.\n",
      "There are 79 unique (area, dinv) pairs.\n"
     ]
    }
   ],
   "source": [
    "# choose semilength n\n",
    "n = 8\n",
    "\n",
    "# first get all the dyck words of size n\n",
    "dw = DyckWords(n)\n",
    "\n",
    "# create a dictionary mapping each word to its (area, dinv)\n",
    "area_dinv_dict = {}\n",
    "for word in dw:\n",
    "    area_dinv_dict[word] = (word.area(), word.dinv())\n",
    "\n",
    "# create a dictionary mapping each (area, dinv) to the list of words with that (area, dinv)\n",
    "path_by_area_dinv = {}\n",
    "for word, (area, dinv) in area_dinv_dict.items():\n",
    "    if (area, dinv) not in path_by_area_dinv:\n",
    "        path_by_area_dinv[(area, dinv)] = []\n",
    "    path_by_area_dinv[(area, dinv)].append(tuple(word))\n",
    "\n",
    "# filter to only those (area, dinv) pairs that have a unique word\n",
    "unique_area_dinv = {k: v[0] for k, v in path_by_area_dinv.items() if len(v) == 1}\n",
    "\n",
    "print(f\"There are in total {len(path_by_area_dinv)} (area, dinv) pairs.\")\n",
    "print(f\"There are {len(unique_area_dinv)} unique (area, dinv) pairs.\")\n",
    "\n",
    "# pair up Dyck words with unique (area, dinv) and their (area, dinv) are exchanged\n",
    "exchanged_pairs = {}\n",
    "seen = set()\n",
    "for (area, dinv), words in unique_area_dinv.items():\n",
    "    if (area, dinv) in seen:\n",
    "        continue\n",
    "    if (dinv, area) in path_by_area_dinv:\n",
    "        exchanged_pairs[(area, dinv)] = (words, path_by_area_dinv[(dinv, area)][0])\n",
    "        seen.add((dinv, area))\n",
    "\n",
    "# now put them into a pandas dataframe\n",
    "df = pd.DataFrame.from_dict(exchanged_pairs, orient='index', columns=['preimage', 'image'])\n",
    "df.reset_index(inplace=True)\n",
    "df.rename(columns={'index': '(area, dinv)'}, inplace=True)\n",
    "df['(area, dinv)'] = df['(area, dinv)'].apply(lambda x: f\"({x[0]}, {x[1]}) -> ({x[1]}, {x[0]})\")\n"
   ]
  },
  {
   "cell_type": "code",
   "execution_count": 3,
   "id": "85256237",
   "metadata": {},
   "outputs": [
    {
     "data": {
      "text/html": [
       "<div>\n",
       "<style scoped>\n",
       "    .dataframe tbody tr th:only-of-type {\n",
       "        vertical-align: middle;\n",
       "    }\n",
       "\n",
       "    .dataframe tbody tr th {\n",
       "        vertical-align: top;\n",
       "    }\n",
       "\n",
       "    .dataframe thead th {\n",
       "        text-align: right;\n",
       "    }\n",
       "</style>\n",
       "<table border=\"1\" class=\"dataframe\">\n",
       "  <thead>\n",
       "    <tr style=\"text-align: right;\">\n",
       "      <th></th>\n",
       "      <th>(area, dinv)</th>\n",
       "      <th>preimage</th>\n",
       "      <th>image</th>\n",
       "    </tr>\n",
       "  </thead>\n",
       "  <tbody>\n",
       "    <tr>\n",
       "      <th>0</th>\n",
       "      <td>(0, 28) -&gt; (28, 0)</td>\n",
       "      <td>(1, 0, 1, 0, 1, 0, 1, 0, 1, 0, 1, 0, 1, 0, 1, 0)</td>\n",
       "      <td>(1, 1, 1, 1, 1, 1, 1, 1, 0, 0, 0, 0, 0, 0, 0, 0)</td>\n",
       "    </tr>\n",
       "    <tr>\n",
       "      <th>1</th>\n",
       "      <td>(1, 21) -&gt; (21, 1)</td>\n",
       "      <td>(1, 0, 1, 0, 1, 0, 1, 0, 1, 0, 1, 0, 1, 1, 0, 0)</td>\n",
       "      <td>(1, 0, 1, 1, 1, 1, 1, 1, 1, 0, 0, 0, 0, 0, 0, 0)</td>\n",
       "    </tr>\n",
       "    <tr>\n",
       "      <th>2</th>\n",
       "      <td>(1, 22) -&gt; (22, 1)</td>\n",
       "      <td>(1, 0, 1, 0, 1, 0, 1, 0, 1, 0, 1, 1, 0, 0, 1, 0)</td>\n",
       "      <td>(1, 1, 0, 1, 1, 1, 1, 1, 1, 0, 0, 0, 0, 0, 0, 0)</td>\n",
       "    </tr>\n",
       "    <tr>\n",
       "      <th>3</th>\n",
       "      <td>(2, 16) -&gt; (16, 2)</td>\n",
       "      <td>(1, 0, 1, 0, 1, 0, 1, 0, 1, 0, 1, 1, 0, 1, 0, 0)</td>\n",
       "      <td>(1, 0, 1, 1, 0, 1, 1, 1, 1, 1, 0, 0, 0, 0, 0, 0)</td>\n",
       "    </tr>\n",
       "    <tr>\n",
       "      <th>4</th>\n",
       "      <td>(1, 23) -&gt; (23, 1)</td>\n",
       "      <td>(1, 0, 1, 0, 1, 0, 1, 0, 1, 1, 0, 0, 1, 0, 1, 0)</td>\n",
       "      <td>(1, 1, 1, 0, 1, 1, 1, 1, 1, 0, 0, 0, 0, 0, 0, 0)</td>\n",
       "    </tr>\n",
       "  </tbody>\n",
       "</table>\n",
       "</div>"
      ],
      "text/plain": [
       "         (area, dinv)                                          preimage  \\\n",
       "0  (0, 28) -> (28, 0)  (1, 0, 1, 0, 1, 0, 1, 0, 1, 0, 1, 0, 1, 0, 1, 0)   \n",
       "1  (1, 21) -> (21, 1)  (1, 0, 1, 0, 1, 0, 1, 0, 1, 0, 1, 0, 1, 1, 0, 0)   \n",
       "2  (1, 22) -> (22, 1)  (1, 0, 1, 0, 1, 0, 1, 0, 1, 0, 1, 1, 0, 0, 1, 0)   \n",
       "3  (2, 16) -> (16, 2)  (1, 0, 1, 0, 1, 0, 1, 0, 1, 0, 1, 1, 0, 1, 0, 0)   \n",
       "4  (1, 23) -> (23, 1)  (1, 0, 1, 0, 1, 0, 1, 0, 1, 1, 0, 0, 1, 0, 1, 0)   \n",
       "\n",
       "                                              image  \n",
       "0  (1, 1, 1, 1, 1, 1, 1, 1, 0, 0, 0, 0, 0, 0, 0, 0)  \n",
       "1  (1, 0, 1, 1, 1, 1, 1, 1, 1, 0, 0, 0, 0, 0, 0, 0)  \n",
       "2  (1, 1, 0, 1, 1, 1, 1, 1, 1, 0, 0, 0, 0, 0, 0, 0)  \n",
       "3  (1, 0, 1, 1, 0, 1, 1, 1, 1, 1, 0, 0, 0, 0, 0, 0)  \n",
       "4  (1, 1, 1, 0, 1, 1, 1, 1, 1, 0, 0, 0, 0, 0, 0, 0)  "
      ]
     },
     "execution_count": 3,
     "metadata": {},
     "output_type": "execute_result"
    }
   ],
   "source": [
    "# dataframe df looks like this\n",
    "df.head()"
   ]
  },
  {
   "cell_type": "code",
   "execution_count": 4,
   "id": "706d73cd",
   "metadata": {},
   "outputs": [],
   "source": [
    "# if you want the dataframe save it to a csv file\n",
    "# df.to_csv(f\"unique_area_dinv_bijection_n{n}.csv\", index=False)"
   ]
  },
  {
   "cell_type": "code",
   "execution_count": 5,
   "id": "e505f56e",
   "metadata": {},
   "outputs": [
    {
     "data": {
      "image/png": "[encoded data removed]",
      "text/plain": [
       "<Figure size 640x480 with 1 Axes>"
      ]
     },
     "metadata": {},
     "output_type": "display_data"
    }
   ],
   "source": [
    "# choose an example index\n",
    "ex_idx = 0\n",
    "\n",
    "preimage = word_to_path(df.iloc[ex_idx]['preimage'])\n",
    "image = word_to_path(df.iloc[ex_idx]['image'])\n",
    "plt.plot(preimage[0], preimage[1], 'b-', label='Preimage', linewidth=2, alpha=0.7)\n",
    "plt.plot(image[0], image[1], 'r-', label='Image', linewidth=2, alpha=0.7)\n",
    "plt.plot([0, n], [0, n], 'k--', label='Diagonal', alpha=0.5)\n",
    "plt.title(f\"Dyck paths with exchanged (area, dinv): {df.iloc[ex_idx]['(area, dinv)']}\")\n",
    "plt.legend()\n",
    "plt.show()"
   ]
  }
 ],
 "metadata": {
  "kernelspec": {
   "display_name": "sage",
   "language": "python",
   "name": "python3"
  },
  "language_info": {
   "codemirror_mode": {
    "name": "ipython",
    "version": 3
   },
   "file_extension": ".py",
   "mimetype": "text/x-python",
   "name": "python",
   "nbconvert_exporter": "python",
   "pygments_lexer": "ipython3",
   "version": "3.12.10"
  }
 },
 "nbformat": 4,
 "nbformat_minor": 5
}
